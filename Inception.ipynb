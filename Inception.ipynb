{
  "cells": [
    {
      "cell_type": "code",
      "execution_count": null,
      "metadata": {
        "colab": {
          "base_uri": "https://localhost:8080/"
        },
        "collapsed": true,
        "id": "smZp03HhWxSj",
        "outputId": "af7d78c8-d527-41bb-805a-90464aa41d9f"
      },
      "outputs": [],
      "source": [
        "# !pip install keras-cv"
      ]
    },
    {
      "cell_type": "code",
      "execution_count": 2,
      "metadata": {
        "id": "I5sYxgG4ONbh"
      },
      "outputs": [],
      "source": [
        "import tensorflow as tf\n",
        "import keras_cv\n",
        "from tensorflow import keras\n",
        "import numpy as np\n",
        "from sklearn.metrics import classification_report\n",
        "import seaborn as sn\n",
        "import matplotlib.pyplot as plt\n",
        "\n",
        "keras.utils.set_random_seed(31)"
      ]
    },
    {
      "cell_type": "markdown",
      "metadata": {
        "id": "Ok7NBthzWNtN"
      },
      "source": [
        "### Create the Inception Model"
      ]
    },
    {
      "cell_type": "code",
      "execution_count": 3,
      "metadata": {
        "id": "IbzuPHuOUHyY"
      },
      "outputs": [],
      "source": [
        "def inception_module(x, filters_1x1, filters_3x3_reduce, filters_3x3,\n",
        "                   filters_5x5_reduce, filters_5x5, filters_pool):\n",
        "    # 1x1 convolution branch\n",
        "    conv1x1 = tf.keras.layers.Conv2D(filters_1x1, (1, 1), padding='same')(x)\n",
        "    conv1x1 = tf.keras.layers.BatchNormalization()(conv1x1)\n",
        "    conv1x1 = tf.keras.layers.Activation('relu')(conv1x1)\n",
        "\n",
        "    # 3x3 convolution branch\n",
        "    conv3x3_reduce = tf.keras.layers.Conv2D(filters_3x3_reduce, (1, 1), padding='same')(x)\n",
        "    conv3x3_reduce = tf.keras.layers.BatchNormalization()(conv3x3_reduce)\n",
        "    conv3x3_reduce = tf.keras.layers.Activation('relu')(conv3x3_reduce)\n",
        "\n",
        "    conv3x3 = tf.keras.layers.Conv2D(filters_3x3, (3, 3), padding='same')(conv3x3_reduce)\n",
        "    conv3x3 = tf.keras.layers.BatchNormalization()(conv3x3)\n",
        "    conv3x3 = tf.keras.layers.Activation('relu')(conv3x3)\n",
        "\n",
        "    # 5x5 convolution branch\n",
        "    conv5x5_reduce = tf.keras.layers.Conv2D(filters_5x5_reduce, (1, 1), padding='same')(x)\n",
        "    conv5x5_reduce = tf.keras.layers.BatchNormalization()(conv5x5_reduce)\n",
        "    conv5x5_reduce = tf.keras.layers.Activation('relu')(conv5x5_reduce)\n",
        "\n",
        "    conv5x5 = tf.keras.layers.Conv2D(filters_5x5, (5, 5), padding='same')(conv5x5_reduce)\n",
        "    conv5x5 = tf.keras.layers.BatchNormalization()(conv5x5)\n",
        "    conv5x5 = tf.keras.layers.Activation('relu')(conv5x5)\n",
        "\n",
        "    # max pooling branch\n",
        "    pool = tf.keras.layers.MaxPooling2D((3, 3), strides=(1, 1), padding='same')(x)\n",
        "    pool_proj = tf.keras.layers.Conv2D(filters_pool, (1, 1), padding='same')(pool)\n",
        "    pool_proj = tf.keras.layers.BatchNormalization()(pool_proj)\n",
        "    pool_proj = tf.keras.layers.Activation('relu')(pool_proj)\n",
        "\n",
        "    return tf.keras.layers.Concatenate(axis=-1)([conv1x1, conv3x3, conv5x5, pool_proj])"
      ]
    },
    {
      "cell_type": "code",
      "execution_count": 4,
      "metadata": {
        "id": "hMe7RnopcGrk"
      },
      "outputs": [],
      "source": [
        "def auxiliary_classifier(x):\n",
        "    x = tf.keras.layers.AveragePooling2D((5, 5), strides=3, padding='valid')(x)\n",
        "    x = tf.keras.layers.Conv2D(128, (1, 1), padding='same')(x)\n",
        "    x = tf.keras.layers.BatchNormalization()(x)\n",
        "    x = tf.keras.layers.Activation('relu')(x)\n",
        "    x = tf.keras.layers.Flatten()(x)\n",
        "    x = tf.keras.layers.Dense(1024, activation='relu')(x)\n",
        "    x = tf.keras.layers.Dropout(0.7)(x)\n",
        "    x = tf.keras.layers.Dense(10, activation='softmax', name='aux_output')(x)\n",
        "    return x"
      ]
    },
    {
      "cell_type": "code",
      "execution_count": 5,
      "metadata": {
        "id": "wi-mNQSzUm9a"
      },
      "outputs": [],
      "source": [
        "def build_inception_model():\n",
        "    inputs = tf.keras.Input(shape=(32, 32, 3))\n",
        "\n",
        "    # initial convolutions\n",
        "    x = tf.keras.layers.Conv2D(64, (7, 7), padding='same')(inputs)\n",
        "    x = tf.keras.layers.BatchNormalization()(x)\n",
        "    x = tf.keras.layers.Activation('relu')(x)\n",
        "    x = tf.keras.layers.MaxPooling2D((3, 3), strides=(2, 2), padding='same')(x)\n",
        "\n",
        "    x = tf.keras.layers.Conv2D(64, (1, 1), padding='same')(x)\n",
        "    x = tf.keras.layers.BatchNormalization()(x)\n",
        "    x = tf.keras.layers.Activation('relu')(x)\n",
        "\n",
        "    x = tf.keras.layers.Conv2D(192, (3, 3), padding='same')(x)\n",
        "    x = tf.keras.layers.BatchNormalization()(x)\n",
        "    x = tf.keras.layers.Activation('relu')(x)\n",
        "    x = tf.keras.layers.MaxPooling2D((3, 3), strides=(2, 2), padding='same')(x)\n",
        "\n",
        "    # inception modules\n",
        "    x = inception_module(x, filters_1x1=64, filters_3x3_reduce=96, filters_3x3=128,\n",
        "                       filters_5x5_reduce=16, filters_5x5=32, filters_pool=32)\n",
        "\n",
        "    x = inception_module(x, filters_1x1=128, filters_3x3_reduce=128, filters_3x3=192,\n",
        "                       filters_5x5_reduce=32, filters_5x5=96, filters_pool=64)\n",
        "    aux_output = auxiliary_classifier(x)\n",
        "\n",
        "    x = inception_module(x, filters_1x1=192, filters_3x3_reduce=96, filters_3x3=208,\n",
        "                       filters_5x5_reduce=16, filters_5x5=48, filters_pool=64)\n",
        "\n",
        "    x = tf.keras.layers.GlobalAveragePooling2D()(x)\n",
        "    x = tf.keras.layers.Dropout(0.4)(x)\n",
        "    main_output = tf.keras.layers.Dense(10, activation='softmax', name='main_output')(x)\n",
        "\n",
        "    model = tf.keras.Model(inputs=inputs, outputs=[main_output, aux_output])\n",
        "    return model"
      ]
    },
    {
      "cell_type": "code",
      "execution_count": null,
      "metadata": {
        "id": "L4AnAUEA34oE"
      },
      "outputs": [],
      "source": [
        "# model = build_inception_model()\n",
        "# model.summary()"
      ]
    },
    {
      "cell_type": "markdown",
      "metadata": {
        "id": "XrcujxibWW5M"
      },
      "source": [
        "### Dataset Preparation"
      ]
    },
    {
      "cell_type": "code",
      "execution_count": 6,
      "metadata": {
        "id": "s0L-6zz_WMPV"
      },
      "outputs": [],
      "source": [
        "classes = [\"airplane\",\n",
        "          \"automobile\",\n",
        "          \"bird\",\n",
        "          \"cat\",\n",
        "          \"deer\",\n",
        "          \"dog\",\n",
        "          \"frog\",\n",
        "          \"horse\",\n",
        "          \"ship\",\n",
        "          \"truck\"]"
      ]
    },
    {
      "cell_type": "code",
      "execution_count": 7,
      "metadata": {
        "id": "UUYrPPsXT1CO"
      },
      "outputs": [],
      "source": [
        "def prepare_dataset(dataset, shuffle:bool=True, augment:bool=False):\n",
        "\n",
        "    rand_augment = keras_cv.layers.RandAugment(\n",
        "      value_range=(0, 255), augmentations_per_image=3, magnitude=0.2\n",
        "    )\n",
        "\n",
        "    if shuffle:\n",
        "      dataset = dataset.shuffle(BATCH_SIZE * 1000)\n",
        "\n",
        "    dataset = dataset.batch(BATCH_SIZE)\n",
        "\n",
        "    dataset = dataset.map(\n",
        "        lambda x, y: (tf.image.resize(x, (IMAGE_SIZE, IMAGE_SIZE)), y),\n",
        "        num_parallel_calls=AUTO,\n",
        "    )\n",
        "\n",
        "    if augment:\n",
        "        dataset = dataset.map(\n",
        "            lambda x, y: (rand_augment(x), y),  # RandAugment can process it\n",
        "            num_parallel_calls=AUTO,\n",
        "        )\n",
        "\n",
        "    dataset = dataset.map(\n",
        "        lambda x, y: (tf.cast(x, tf.float32) / 255.0, y),\n",
        "        num_parallel_calls=AUTO,\n",
        "    )\n",
        "\n",
        "    return dataset.prefetch(AUTO)"
      ]
    },
    {
      "cell_type": "code",
      "execution_count": 8,
      "metadata": {
        "id": "i7QFLhKdWpjy"
      },
      "outputs": [],
      "source": [
        "AUTO = tf.data.AUTOTUNE\n",
        "BATCH_SIZE = 32\n",
        "IMAGE_SIZE = 32"
      ]
    },
    {
      "cell_type": "code",
      "execution_count": 9,
      "metadata": {
        "id": "_0vuXssFXzRu"
      },
      "outputs": [],
      "source": [
        "def fetch_and_augment_cifar10() -> tuple:\n",
        "    (x_train, y_train), (x_test, y_test) = keras.datasets.cifar10.load_data()\n",
        "\n",
        "    # partition the train data to obtain a val data\n",
        "    num_samples = x_train.shape[0]\n",
        "    indices = np.arange(num_samples)\n",
        "    np.random.shuffle(indices, )     # shuffle to avoid bias\n",
        "\n",
        "    x_train, y_train = x_train[indices], y_train[indices]\n",
        "\n",
        "    val_size = int(0.1 * num_samples)\n",
        "\n",
        "    # 45000 train and 5000 val datapoints\n",
        "    x_val, y_val = x_train[:val_size], y_train[:val_size]\n",
        "    x_train, y_train = x_train[val_size:], y_train[val_size:]\n",
        "\n",
        "\n",
        "    train_ds = tf.data.Dataset.from_tensor_slices((x_train, {'main_output':y_train, 'aux_output': y_train}))\n",
        "    val_ds = tf.data.Dataset.from_tensor_slices((x_val, {'main_output':y_val, 'aux_output': y_val}))\n",
        "    test_ds = tf.data.Dataset.from_tensor_slices((x_test, {'main_output':y_test, 'aux_output': y_test}))\n",
        "\n",
        "    train_ds_original = prepare_dataset(train_ds)\n",
        "    train_ds = prepare_dataset(train_ds, shuffle=True, augment=True)\n",
        "    val_ds = prepare_dataset(val_ds)\n",
        "    test_ds = prepare_dataset(test_ds)\n",
        "\n",
        "    return (train_ds, val_ds, test_ds, train_ds_original)"
      ]
    },
    {
      "cell_type": "markdown",
      "metadata": {
        "id": "cEhj2xoOffkr"
      },
      "source": [
        "### Train the Model\n",
        "\n",
        "We're training the Inception model with 50 epochs and batch size of 32, early stopping open."
      ]
    },
    {
      "cell_type": "code",
      "execution_count": 10,
      "metadata": {
        "colab": {
          "base_uri": "https://localhost:8080/"
        },
        "id": "MLLPMv_whbOX",
        "outputId": "858bf766-b9a9-4a04-f027-c155e6151cfb"
      },
      "outputs": [
        {
          "name": "stdout",
          "output_type": "stream",
          "text": [
            "Downloading data from https://www.cs.toronto.edu/~kriz/cifar-10-python.tar.gz\n",
            "\u001b[1m170498071/170498071\u001b[0m \u001b[32m━━━━━━━━━━━━━━━━━━━━\u001b[0m\u001b[37m\u001b[0m \u001b[1m2s\u001b[0m 0us/step\n"
          ]
        }
      ],
      "source": [
        "train_ds, val_ds, test_ds, train_ds_original = fetch_and_augment_cifar10()"
      ]
    },
    {
      "cell_type": "code",
      "execution_count": 11,
      "metadata": {
        "id": "uRJF55sIT0_d"
      },
      "outputs": [],
      "source": [
        "def train_model(train_ds:tf.data.Dataset, val_ds:tf.data.Dataset) -> tuple:\n",
        "    # train_ds, val_ds, test_ds = fetch_and_augment_cifar10()\n",
        "\n",
        "    model = build_inception_model()\n",
        "    model.compile(\n",
        "        optimizer=tf.keras.optimizers.Adam(learning_rate=0.001),\n",
        "        loss={\n",
        "            'main_output': 'sparse_categorical_crossentropy',  # main output\n",
        "            'aux_output': 'sparse_categorical_crossentropy',    # aux output\n",
        "        },\n",
        "        loss_weights={\n",
        "            'main_output': 1.0,  # main output\n",
        "            'aux_output': 0.3,    # aux output\n",
        "        },\n",
        "        metrics={\n",
        "            'main_output': ['accuracy'],\n",
        "            'aux_output': ['accuracy']\n",
        "        }\n",
        "    )\n",
        "\n",
        "    callbacks = [\n",
        "        tf.keras.callbacks.ReduceLROnPlateau(patience=3, factor=0.5),\n",
        "        tf.keras.callbacks.EarlyStopping(patience=10),\n",
        "        tf.keras.callbacks.ModelCheckpoint('inception_cifar10.h5', save_best_only=True)\n",
        "    ]\n",
        "\n",
        "    history = model.fit(\n",
        "        train_ds,\n",
        "        epochs=50,\n",
        "        # batch_size=BATCH_SIZE,\n",
        "        validation_data=val_ds,\n",
        "        callbacks=callbacks\n",
        "    )\n",
        "\n",
        "    return model, history"
      ]
    },
    {
      "cell_type": "code",
      "execution_count": 12,
      "metadata": {
        "colab": {
          "base_uri": "https://localhost:8080/"
        },
        "id": "CQzFAJJac4IR",
        "outputId": "91491706-ef1c-4222-ea5f-d4ae2708d38d"
      },
      "outputs": [
        {
          "name": "stdout",
          "output_type": "stream",
          "text": [
            "Epoch 1/50\n",
            "\u001b[1m1407/1407\u001b[0m \u001b[32m━━━━━━━━━━━━━━━━━━━━\u001b[0m\u001b[37m\u001b[0m \u001b[1m0s\u001b[0m 44ms/step - aux_output_accuracy: 0.2849 - aux_output_loss: 2.0042 - loss: 2.5342 - main_output_accuracy: 0.3056 - main_output_loss: 1.9329"
          ]
        },
        {
          "name": "stderr",
          "output_type": "stream",
          "text": [
            "WARNING:absl:You are saving your model as an HDF5 file via `model.save()` or `keras.saving.save_model(model)`. This file format is considered legacy. We recommend using instead the native Keras format, e.g. `model.save('my_model.keras')` or `keras.saving.save_model(model, 'my_model.keras')`. \n"
          ]
        },
        {
          "name": "stdout",
          "output_type": "stream",
          "text": [
            "\b\b\b\b\b\b\b\b\b\b\b\b\b\b\b\b\b\b\b\b\b\b\b\b\b\b\b\b\b\b\b\b\b\b\b\b\b\b\b\b\b\b\b\b\b\b\b\b\b\b\b\b\b\b\b\b\b\b\b\b\b\b\b\b\b\b\b\b\b\b\b\b\b\b\b\b\b\b\b\b\b\b\b\b\b\b\b\b\b\b\b\b\b\b\b\b\b\b\b\b\b\b\b\b\b\b\b\b\b\b\b\b\b\b\b\b\b\b\b\b\b\b\b\b\b\b\b\b\b\b\b\b\b\b\b\b\b\b\b\b\b\b\b\b\b\b\b\b\b\b\b\b\b\b\b\b\b\b\b\b\b\b\b\b\b\b\b\b\b\b\b\b\r\u001b[1m1407/1407\u001b[0m \u001b[32m━━━━━━━━━━━━━━━━━━━━\u001b[0m\u001b[37m\u001b[0m \u001b[1m106s\u001b[0m 50ms/step - aux_output_accuracy: 0.2849 - aux_output_loss: 2.0040 - loss: 2.5340 - main_output_accuracy: 0.3057 - main_output_loss: 1.9328 - val_aux_output_accuracy: 0.4424 - val_aux_output_loss: 1.6178 - val_loss: 2.0625 - val_main_output_accuracy: 0.4500 - val_main_output_loss: 1.5760 - learning_rate: 0.0010\n",
            "Epoch 2/50\n",
            "\u001b[1m1407/1407\u001b[0m \u001b[32m━━━━━━━━━━━━━━━━━━━━\u001b[0m\u001b[37m\u001b[0m \u001b[1m53s\u001b[0m 37ms/step - aux_output_accuracy: 0.4910 - aux_output_loss: 1.4546 - loss: 1.7951 - main_output_accuracy: 0.5157 - main_output_loss: 1.3587 - val_aux_output_accuracy: 0.4684 - val_aux_output_loss: 1.7345 - val_loss: 2.2271 - val_main_output_accuracy: 0.4620 - val_main_output_loss: 1.7031 - learning_rate: 0.0010\n",
            "Epoch 3/50\n",
            "\u001b[1m1406/1407\u001b[0m \u001b[32m━━━━━━━━━━━━━━━━━━━\u001b[0m\u001b[37m━\u001b[0m \u001b[1m0s\u001b[0m 34ms/step - aux_output_accuracy: 0.5785 - aux_output_loss: 1.2288 - loss: 1.5034 - main_output_accuracy: 0.6052 - main_output_loss: 1.1348"
          ]
        },
        {
          "name": "stderr",
          "output_type": "stream",
          "text": [
            "WARNING:absl:You are saving your model as an HDF5 file via `model.save()` or `keras.saving.save_model(model)`. This file format is considered legacy. We recommend using instead the native Keras format, e.g. `model.save('my_model.keras')` or `keras.saving.save_model(model, 'my_model.keras')`. \n"
          ]
        },
        {
          "name": "stdout",
          "output_type": "stream",
          "text": [
            "\b\b\b\b\b\b\b\b\b\b\b\b\b\b\b\b\b\b\b\b\b\b\b\b\b\b\b\b\b\b\b\b\b\b\b\b\b\b\b\b\b\b\b\b\b\b\b\b\b\b\b\b\b\b\b\b\b\b\b\b\b\b\b\b\b\b\b\b\b\b\b\b\b\b\b\b\b\b\b\b\b\b\b\b\b\b\b\b\b\b\b\b\b\b\b\b\b\b\b\b\b\b\b\b\b\b\b\b\b\b\b\b\b\b\b\b\b\b\b\b\b\b\b\b\b\b\b\b\b\b\b\b\b\b\b\b\b\b\b\b\b\b\b\b\b\b\b\b\b\b\b\b\b\b\b\b\b\b\b\b\b\b\b\b\b\b\b\b\b\b\b\b\r\u001b[1m1407/1407\u001b[0m \u001b[32m━━━━━━━━━━━━━━━━━━━━\u001b[0m\u001b[37m\u001b[0m \u001b[1m52s\u001b[0m 36ms/step - aux_output_accuracy: 0.5785 - aux_output_loss: 1.2287 - loss: 1.5033 - main_output_accuracy: 0.6052 - main_output_loss: 1.1347 - val_aux_output_accuracy: 0.6964 - val_aux_output_loss: 0.8731 - val_loss: 1.1071 - val_main_output_accuracy: 0.7004 - val_main_output_loss: 0.8454 - learning_rate: 0.0010\n",
            "Epoch 4/50\n",
            "\u001b[1m1407/1407\u001b[0m \u001b[32m━━━━━━━━━━━━━━━━━━━━\u001b[0m\u001b[37m\u001b[0m \u001b[1m52s\u001b[0m 36ms/step - aux_output_accuracy: 0.6219 - aux_output_loss: 1.1041 - loss: 1.3548 - main_output_accuracy: 0.6422 - main_output_loss: 1.0235 - val_aux_output_accuracy: 0.6826 - val_aux_output_loss: 0.9315 - val_loss: 1.1564 - val_main_output_accuracy: 0.6930 - val_main_output_loss: 0.8731 - learning_rate: 0.0010\n",
            "Epoch 5/50\n",
            "\u001b[1m1404/1407\u001b[0m \u001b[32m━━━━━━━━━━━━━━━━━━━\u001b[0m\u001b[37m━\u001b[0m \u001b[1m0s\u001b[0m 35ms/step - aux_output_accuracy: 0.6584 - aux_output_loss: 1.0148 - loss: 1.2380 - main_output_accuracy: 0.6779 - main_output_loss: 0.9335"
          ]
        },
        {
          "name": "stderr",
          "output_type": "stream",
          "text": [
            "WARNING:absl:You are saving your model as an HDF5 file via `model.save()` or `keras.saving.save_model(model)`. This file format is considered legacy. We recommend using instead the native Keras format, e.g. `model.save('my_model.keras')` or `keras.saving.save_model(model, 'my_model.keras')`. \n"
          ]
        },
        {
          "name": "stdout",
          "output_type": "stream",
          "text": [
            "\b\b\b\b\b\b\b\b\b\b\b\b\b\b\b\b\b\b\b\b\b\b\b\b\b\b\b\b\b\b\b\b\b\b\b\b\b\b\b\b\b\b\b\b\b\b\b\b\b\b\b\b\b\b\b\b\b\b\b\b\b\b\b\b\b\b\b\b\b\b\b\b\b\b\b\b\b\b\b\b\b\b\b\b\b\b\b\b\b\b\b\b\b\b\b\b\b\b\b\b\b\b\b\b\b\b\b\b\b\b\b\b\b\b\b\b\b\b\b\b\b\b\b\b\b\b\b\b\b\b\b\b\b\b\b\b\b\b\b\b\b\b\b\b\b\b\b\b\b\b\b\b\b\b\b\b\b\b\b\b\b\b\b\b\b\b\b\b\b\b\b\b\r\u001b[1m1407/1407\u001b[0m \u001b[32m━━━━━━━━━━━━━━━━━━━━\u001b[0m\u001b[37m\u001b[0m \u001b[1m53s\u001b[0m 36ms/step - aux_output_accuracy: 0.6584 - aux_output_loss: 1.0147 - loss: 1.2379 - main_output_accuracy: 0.6779 - main_output_loss: 0.9335 - val_aux_output_accuracy: 0.7470 - val_aux_output_loss: 0.7303 - val_loss: 0.9512 - val_main_output_accuracy: 0.7520 - val_main_output_loss: 0.7327 - learning_rate: 0.0010\n",
            "Epoch 6/50\n",
            "\u001b[1m1407/1407\u001b[0m \u001b[32m━━━━━━━━━━━━━━━━━━━━\u001b[0m\u001b[37m\u001b[0m \u001b[1m52s\u001b[0m 36ms/step - aux_output_accuracy: 0.6754 - aux_output_loss: 0.9489 - loss: 1.1629 - main_output_accuracy: 0.6938 - main_output_loss: 0.8783 - val_aux_output_accuracy: 0.6410 - val_aux_output_loss: 1.0398 - val_loss: 1.2914 - val_main_output_accuracy: 0.6612 - val_main_output_loss: 0.9802 - learning_rate: 0.0010\n",
            "Epoch 7/50\n",
            "\u001b[1m1407/1407\u001b[0m \u001b[32m━━━━━━━━━━━━━━━━━━━━\u001b[0m\u001b[37m\u001b[0m \u001b[1m52s\u001b[0m 36ms/step - aux_output_accuracy: 0.6967 - aux_output_loss: 0.9083 - loss: 1.1094 - main_output_accuracy: 0.7116 - main_output_loss: 0.8370 - val_aux_output_accuracy: 0.6746 - val_aux_output_loss: 0.9573 - val_loss: 1.2054 - val_main_output_accuracy: 0.6852 - val_main_output_loss: 0.9149 - learning_rate: 0.0010\n",
            "Epoch 8/50\n",
            "\u001b[1m1407/1407\u001b[0m \u001b[32m━━━━━━━━━━━━━━━━━━━━\u001b[0m\u001b[37m\u001b[0m \u001b[1m0s\u001b[0m 35ms/step - aux_output_accuracy: 0.7144 - aux_output_loss: 0.8547 - loss: 1.0366 - main_output_accuracy: 0.7323 - main_output_loss: 0.7802"
          ]
        },
        {
          "name": "stderr",
          "output_type": "stream",
          "text": [
            "WARNING:absl:You are saving your model as an HDF5 file via `model.save()` or `keras.saving.save_model(model)`. This file format is considered legacy. We recommend using instead the native Keras format, e.g. `model.save('my_model.keras')` or `keras.saving.save_model(model, 'my_model.keras')`. \n"
          ]
        },
        {
          "name": "stdout",
          "output_type": "stream",
          "text": [
            "\b\b\b\b\b\b\b\b\b\b\b\b\b\b\b\b\b\b\b\b\b\b\b\b\b\b\b\b\b\b\b\b\b\b\b\b\b\b\b\b\b\b\b\b\b\b\b\b\b\b\b\b\b\b\b\b\b\b\b\b\b\b\b\b\b\b\b\b\b\b\b\b\b\b\b\b\b\b\b\b\b\b\b\b\b\b\b\b\b\b\b\b\b\b\b\b\b\b\b\b\b\b\b\b\b\b\b\b\b\b\b\b\b\b\b\b\b\b\b\b\b\b\b\b\b\b\b\b\b\b\b\b\b\b\b\b\b\b\b\b\b\b\b\b\b\b\b\b\b\b\b\b\b\b\b\b\b\b\b\b\b\b\b\b\b\b\b\b\b\b\b\b\r\u001b[1m1407/1407\u001b[0m \u001b[32m━━━━━━━━━━━━━━━━━━━━\u001b[0m\u001b[37m\u001b[0m \u001b[1m54s\u001b[0m 37ms/step - aux_output_accuracy: 0.7144 - aux_output_loss: 0.8547 - loss: 1.0366 - main_output_accuracy: 0.7323 - main_output_loss: 0.7802 - val_aux_output_accuracy: 0.7650 - val_aux_output_loss: 0.6936 - val_loss: 0.8647 - val_main_output_accuracy: 0.7748 - val_main_output_loss: 0.6542 - learning_rate: 0.0010\n",
            "Epoch 9/50\n",
            "\u001b[1m1403/1407\u001b[0m \u001b[32m━━━━━━━━━━━━━━━━━━━\u001b[0m\u001b[37m━\u001b[0m \u001b[1m0s\u001b[0m 35ms/step - aux_output_accuracy: 0.7279 - aux_output_loss: 0.8131 - loss: 0.9967 - main_output_accuracy: 0.7406 - main_output_loss: 0.7528"
          ]
        },
        {
          "name": "stderr",
          "output_type": "stream",
          "text": [
            "WARNING:absl:You are saving your model as an HDF5 file via `model.save()` or `keras.saving.save_model(model)`. This file format is considered legacy. We recommend using instead the native Keras format, e.g. `model.save('my_model.keras')` or `keras.saving.save_model(model, 'my_model.keras')`. \n"
          ]
        },
        {
          "name": "stdout",
          "output_type": "stream",
          "text": [
            "\b\b\b\b\b\b\b\b\b\b\b\b\b\b\b\b\b\b\b\b\b\b\b\b\b\b\b\b\b\b\b\b\b\b\b\b\b\b\b\b\b\b\b\b\b\b\b\b\b\b\b\b\b\b\b\b\b\b\b\b\b\b\b\b\b\b\b\b\b\b\b\b\b\b\b\b\b\b\b\b\b\b\b\b\b\b\b\b\b\b\b\b\b\b\b\b\b\b\b\b\b\b\b\b\b\b\b\b\b\b\b\b\b\b\b\b\b\b\b\b\b\b\b\b\b\b\b\b\b\b\b\b\b\b\b\b\b\b\b\b\b\b\b\b\b\b\b\b\b\b\b\b\b\b\b\b\b\b\b\b\b\b\b\b\b\b\b\b\b\b\b\b\r\u001b[1m1407/1407\u001b[0m \u001b[32m━━━━━━━━━━━━━━━━━━━━\u001b[0m\u001b[37m\u001b[0m \u001b[1m53s\u001b[0m 36ms/step - aux_output_accuracy: 0.7279 - aux_output_loss: 0.8131 - loss: 0.9967 - main_output_accuracy: 0.7406 - main_output_loss: 0.7528 - val_aux_output_accuracy: 0.7846 - val_aux_output_loss: 0.6649 - val_loss: 0.7980 - val_main_output_accuracy: 0.7980 - val_main_output_loss: 0.5979 - learning_rate: 0.0010\n",
            "Epoch 10/50\n",
            "\u001b[1m1407/1407\u001b[0m \u001b[32m━━━━━━━━━━━━━━━━━━━━\u001b[0m\u001b[37m\u001b[0m \u001b[1m53s\u001b[0m 36ms/step - aux_output_accuracy: 0.7384 - aux_output_loss: 0.7698 - loss: 0.9312 - main_output_accuracy: 0.7551 - main_output_loss: 0.7003 - val_aux_output_accuracy: 0.7774 - val_aux_output_loss: 0.6592 - val_loss: 0.8150 - val_main_output_accuracy: 0.7862 - val_main_output_loss: 0.6197 - learning_rate: 0.0010\n",
            "Epoch 11/50\n",
            "\u001b[1m1407/1407\u001b[0m \u001b[32m━━━━━━━━━━━━━━━━━━━━\u001b[0m\u001b[37m\u001b[0m \u001b[1m53s\u001b[0m 36ms/step - aux_output_accuracy: 0.7503 - aux_output_loss: 0.7400 - loss: 0.9025 - main_output_accuracy: 0.7636 - main_output_loss: 0.6805 - val_aux_output_accuracy: 0.7742 - val_aux_output_loss: 0.6961 - val_loss: 0.8735 - val_main_output_accuracy: 0.7808 - val_main_output_loss: 0.6636 - learning_rate: 0.0010\n",
            "Epoch 12/50\n",
            "\u001b[1m1404/1407\u001b[0m \u001b[32m━━━━━━━━━━━━━━━━━━━\u001b[0m\u001b[37m━\u001b[0m \u001b[1m0s\u001b[0m 35ms/step - aux_output_accuracy: 0.7589 - aux_output_loss: 0.7203 - loss: 0.8709 - main_output_accuracy: 0.7751 - main_output_loss: 0.6548"
          ]
        },
        {
          "name": "stderr",
          "output_type": "stream",
          "text": [
            "WARNING:absl:You are saving your model as an HDF5 file via `model.save()` or `keras.saving.save_model(model)`. This file format is considered legacy. We recommend using instead the native Keras format, e.g. `model.save('my_model.keras')` or `keras.saving.save_model(model, 'my_model.keras')`. \n"
          ]
        },
        {
          "name": "stdout",
          "output_type": "stream",
          "text": [
            "\b\b\b\b\b\b\b\b\b\b\b\b\b\b\b\b\b\b\b\b\b\b\b\b\b\b\b\b\b\b\b\b\b\b\b\b\b\b\b\b\b\b\b\b\b\b\b\b\b\b\b\b\b\b\b\b\b\b\b\b\b\b\b\b\b\b\b\b\b\b\b\b\b\b\b\b\b\b\b\b\b\b\b\b\b\b\b\b\b\b\b\b\b\b\b\b\b\b\b\b\b\b\b\b\b\b\b\b\b\b\b\b\b\b\b\b\b\b\b\b\b\b\b\b\b\b\b\b\b\b\b\b\b\b\b\b\b\b\b\b\b\b\b\b\b\b\b\b\b\b\b\b\b\b\b\b\b\b\b\b\b\b\b\b\b\b\b\b\b\b\b\b\r\u001b[1m1407/1407\u001b[0m \u001b[32m━━━━━━━━━━━━━━━━━━━━\u001b[0m\u001b[37m\u001b[0m \u001b[1m53s\u001b[0m 36ms/step - aux_output_accuracy: 0.7589 - aux_output_loss: 0.7203 - loss: 0.8709 - main_output_accuracy: 0.7751 - main_output_loss: 0.6548 - val_aux_output_accuracy: 0.7940 - val_aux_output_loss: 0.6238 - val_loss: 0.7868 - val_main_output_accuracy: 0.8018 - val_main_output_loss: 0.5987 - learning_rate: 0.0010\n",
            "Epoch 13/50\n",
            "\u001b[1m1405/1407\u001b[0m \u001b[32m━━━━━━━━━━━━━━━━━━━\u001b[0m\u001b[37m━\u001b[0m \u001b[1m0s\u001b[0m 35ms/step - aux_output_accuracy: 0.7613 - aux_output_loss: 0.6992 - loss: 0.8463 - main_output_accuracy: 0.7790 - main_output_loss: 0.6365"
          ]
        },
        {
          "name": "stderr",
          "output_type": "stream",
          "text": [
            "WARNING:absl:You are saving your model as an HDF5 file via `model.save()` or `keras.saving.save_model(model)`. This file format is considered legacy. We recommend using instead the native Keras format, e.g. `model.save('my_model.keras')` or `keras.saving.save_model(model, 'my_model.keras')`. \n"
          ]
        },
        {
          "name": "stdout",
          "output_type": "stream",
          "text": [
            "\b\b\b\b\b\b\b\b\b\b\b\b\b\b\b\b\b\b\b\b\b\b\b\b\b\b\b\b\b\b\b\b\b\b\b\b\b\b\b\b\b\b\b\b\b\b\b\b\b\b\b\b\b\b\b\b\b\b\b\b\b\b\b\b\b\b\b\b\b\b\b\b\b\b\b\b\b\b\b\b\b\b\b\b\b\b\b\b\b\b\b\b\b\b\b\b\b\b\b\b\b\b\b\b\b\b\b\b\b\b\b\b\b\b\b\b\b\b\b\b\b\b\b\b\b\b\b\b\b\b\b\b\b\b\b\b\b\b\b\b\b\b\b\b\b\b\b\b\b\b\b\b\b\b\b\b\b\b\b\b\b\b\b\b\b\b\b\b\b\b\b\b\r\u001b[1m1407/1407\u001b[0m \u001b[32m━━━━━━━━━━━━━━━━━━━━\u001b[0m\u001b[37m\u001b[0m \u001b[1m53s\u001b[0m 36ms/step - aux_output_accuracy: 0.7613 - aux_output_loss: 0.6992 - loss: 0.8463 - main_output_accuracy: 0.7790 - main_output_loss: 0.6365 - val_aux_output_accuracy: 0.8216 - val_aux_output_loss: 0.5648 - val_loss: 0.6972 - val_main_output_accuracy: 0.8270 - val_main_output_loss: 0.5310 - learning_rate: 0.0010\n",
            "Epoch 14/50\n",
            "\u001b[1m1407/1407\u001b[0m \u001b[32m━━━━━━━━━━━━━━━━━━━━\u001b[0m\u001b[37m\u001b[0m \u001b[1m53s\u001b[0m 36ms/step - aux_output_accuracy: 0.7678 - aux_output_loss: 0.6835 - loss: 0.8259 - main_output_accuracy: 0.7858 - main_output_loss: 0.6209 - val_aux_output_accuracy: 0.7890 - val_aux_output_loss: 0.6605 - val_loss: 0.8174 - val_main_output_accuracy: 0.7984 - val_main_output_loss: 0.6168 - learning_rate: 0.0010\n",
            "Epoch 15/50\n",
            "\u001b[1m1407/1407\u001b[0m \u001b[32m━━━━━━━━━━━━━━━━━━━━\u001b[0m\u001b[37m\u001b[0m \u001b[1m0s\u001b[0m 35ms/step - aux_output_accuracy: 0.7769 - aux_output_loss: 0.6619 - loss: 0.7942 - main_output_accuracy: 0.7952 - main_output_loss: 0.5956"
          ]
        },
        {
          "name": "stderr",
          "output_type": "stream",
          "text": [
            "WARNING:absl:You are saving your model as an HDF5 file via `model.save()` or `keras.saving.save_model(model)`. This file format is considered legacy. We recommend using instead the native Keras format, e.g. `model.save('my_model.keras')` or `keras.saving.save_model(model, 'my_model.keras')`. \n"
          ]
        },
        {
          "name": "stdout",
          "output_type": "stream",
          "text": [
            "\b\b\b\b\b\b\b\b\b\b\b\b\b\b\b\b\b\b\b\b\b\b\b\b\b\b\b\b\b\b\b\b\b\b\b\b\b\b\b\b\b\b\b\b\b\b\b\b\b\b\b\b\b\b\b\b\b\b\b\b\b\b\b\b\b\b\b\b\b\b\b\b\b\b\b\b\b\b\b\b\b\b\b\b\b\b\b\b\b\b\b\b\b\b\b\b\b\b\b\b\b\b\b\b\b\b\b\b\b\b\b\b\b\b\b\b\b\b\b\b\b\b\b\b\b\b\b\b\b\b\b\b\b\b\b\b\b\b\b\b\b\b\b\b\b\b\b\b\b\b\b\b\b\b\b\b\b\b\b\b\b\b\b\b\b\b\b\b\b\b\b\b\r\u001b[1m1407/1407\u001b[0m \u001b[32m━━━━━━━━━━━━━━━━━━━━\u001b[0m\u001b[37m\u001b[0m \u001b[1m53s\u001b[0m 36ms/step - aux_output_accuracy: 0.7769 - aux_output_loss: 0.6619 - loss: 0.7942 - main_output_accuracy: 0.7952 - main_output_loss: 0.5956 - val_aux_output_accuracy: 0.8214 - val_aux_output_loss: 0.5567 - val_loss: 0.6887 - val_main_output_accuracy: 0.8286 - val_main_output_loss: 0.5210 - learning_rate: 0.0010\n",
            "Epoch 16/50\n",
            "\u001b[1m1404/1407\u001b[0m \u001b[32m━━━━━━━━━━━━━━━━━━━\u001b[0m\u001b[37m━\u001b[0m \u001b[1m0s\u001b[0m 35ms/step - aux_output_accuracy: 0.7857 - aux_output_loss: 0.6354 - loss: 0.7671 - main_output_accuracy: 0.8004 - main_output_loss: 0.5764"
          ]
        },
        {
          "name": "stderr",
          "output_type": "stream",
          "text": [
            "WARNING:absl:You are saving your model as an HDF5 file via `model.save()` or `keras.saving.save_model(model)`. This file format is considered legacy. We recommend using instead the native Keras format, e.g. `model.save('my_model.keras')` or `keras.saving.save_model(model, 'my_model.keras')`. \n"
          ]
        },
        {
          "name": "stdout",
          "output_type": "stream",
          "text": [
            "\b\b\b\b\b\b\b\b\b\b\b\b\b\b\b\b\b\b\b\b\b\b\b\b\b\b\b\b\b\b\b\b\b\b\b\b\b\b\b\b\b\b\b\b\b\b\b\b\b\b\b\b\b\b\b\b\b\b\b\b\b\b\b\b\b\b\b\b\b\b\b\b\b\b\b\b\b\b\b\b\b\b\b\b\b\b\b\b\b\b\b\b\b\b\b\b\b\b\b\b\b\b\b\b\b\b\b\b\b\b\b\b\b\b\b\b\b\b\b\b\b\b\b\b\b\b\b\b\b\b\b\b\b\b\b\b\b\b\b\b\b\b\b\b\b\b\b\b\b\b\b\b\b\b\b\b\b\b\b\b\b\b\b\b\b\b\b\b\b\b\b\b\r\u001b[1m1407/1407\u001b[0m \u001b[32m━━━━━━━━━━━━━━━━━━━━\u001b[0m\u001b[37m\u001b[0m \u001b[1m53s\u001b[0m 36ms/step - aux_output_accuracy: 0.7856 - aux_output_loss: 0.6354 - loss: 0.7671 - main_output_accuracy: 0.8004 - main_output_loss: 0.5764 - val_aux_output_accuracy: 0.8250 - val_aux_output_loss: 0.5289 - val_loss: 0.6766 - val_main_output_accuracy: 0.8274 - val_main_output_loss: 0.5168 - learning_rate: 0.0010\n",
            "Epoch 17/50\n",
            "\u001b[1m1407/1407\u001b[0m \u001b[32m━━━━━━━━━━━━━━━━━━━━\u001b[0m\u001b[37m\u001b[0m \u001b[1m53s\u001b[0m 36ms/step - aux_output_accuracy: 0.7894 - aux_output_loss: 0.6256 - loss: 0.7490 - main_output_accuracy: 0.8078 - main_output_loss: 0.5613 - val_aux_output_accuracy: 0.8162 - val_aux_output_loss: 0.5632 - val_loss: 0.6885 - val_main_output_accuracy: 0.8258 - val_main_output_loss: 0.5169 - learning_rate: 0.0010\n",
            "Epoch 18/50\n",
            "\u001b[1m1407/1407\u001b[0m \u001b[32m━━━━━━━━━━━━━━━━━━━━\u001b[0m\u001b[37m\u001b[0m \u001b[1m53s\u001b[0m 36ms/step - aux_output_accuracy: 0.7934 - aux_output_loss: 0.6132 - loss: 0.7335 - main_output_accuracy: 0.8101 - main_output_loss: 0.5495 - val_aux_output_accuracy: 0.8186 - val_aux_output_loss: 0.5647 - val_loss: 0.7036 - val_main_output_accuracy: 0.8240 - val_main_output_loss: 0.5314 - learning_rate: 0.0010\n",
            "Epoch 19/50\n",
            "\u001b[1m1407/1407\u001b[0m \u001b[32m━━━━━━━━━━━━━━━━━━━━\u001b[0m\u001b[37m\u001b[0m \u001b[1m53s\u001b[0m 36ms/step - aux_output_accuracy: 0.8017 - aux_output_loss: 0.5917 - loss: 0.7063 - main_output_accuracy: 0.8204 - main_output_loss: 0.5288 - val_aux_output_accuracy: 0.8076 - val_aux_output_loss: 0.6027 - val_loss: 0.7198 - val_main_output_accuracy: 0.8158 - val_main_output_loss: 0.5376 - learning_rate: 0.0010\n",
            "Epoch 20/50\n",
            "\u001b[1m1404/1407\u001b[0m \u001b[32m━━━━━━━━━━━━━━━━━━━\u001b[0m\u001b[37m━\u001b[0m \u001b[1m0s\u001b[0m 35ms/step - aux_output_accuracy: 0.8280 - aux_output_loss: 0.5177 - loss: 0.6160 - main_output_accuracy: 0.8429 - main_output_loss: 0.4607"
          ]
        },
        {
          "name": "stderr",
          "output_type": "stream",
          "text": [
            "WARNING:absl:You are saving your model as an HDF5 file via `model.save()` or `keras.saving.save_model(model)`. This file format is considered legacy. We recommend using instead the native Keras format, e.g. `model.save('my_model.keras')` or `keras.saving.save_model(model, 'my_model.keras')`. \n"
          ]
        },
        {
          "name": "stdout",
          "output_type": "stream",
          "text": [
            "\b\b\b\b\b\b\b\b\b\b\b\b\b\b\b\b\b\b\b\b\b\b\b\b\b\b\b\b\b\b\b\b\b\b\b\b\b\b\b\b\b\b\b\b\b\b\b\b\b\b\b\b\b\b\b\b\b\b\b\b\b\b\b\b\b\b\b\b\b\b\b\b\b\b\b\b\b\b\b\b\b\b\b\b\b\b\b\b\b\b\b\b\b\b\b\b\b\b\b\b\b\b\b\b\b\b\b\b\b\b\b\b\b\b\b\b\b\b\b\b\b\b\b\b\b\b\b\b\b\b\b\b\b\b\b\b\b\b\b\b\b\b\b\b\b\b\b\b\b\b\b\b\b\b\b\b\b\b\b\b\b\b\b\b\b\b\b\b\b\b\b\b\r\u001b[1m1407/1407\u001b[0m \u001b[32m━━━━━━━━━━━━━━━━━━━━\u001b[0m\u001b[37m\u001b[0m \u001b[1m53s\u001b[0m 36ms/step - aux_output_accuracy: 0.8280 - aux_output_loss: 0.5177 - loss: 0.6160 - main_output_accuracy: 0.8429 - main_output_loss: 0.4607 - val_aux_output_accuracy: 0.8690 - val_aux_output_loss: 0.4198 - val_loss: 0.5159 - val_main_output_accuracy: 0.8734 - val_main_output_loss: 0.3883 - learning_rate: 5.0000e-04\n",
            "Epoch 21/50\n",
            "\u001b[1m1403/1407\u001b[0m \u001b[32m━━━━━━━━━━━━━━━━━━━\u001b[0m\u001b[37m━\u001b[0m \u001b[1m0s\u001b[0m 35ms/step - aux_output_accuracy: 0.8360 - aux_output_loss: 0.4880 - loss: 0.5789 - main_output_accuracy: 0.8508 - main_output_loss: 0.4325"
          ]
        },
        {
          "name": "stderr",
          "output_type": "stream",
          "text": [
            "WARNING:absl:You are saving your model as an HDF5 file via `model.save()` or `keras.saving.save_model(model)`. This file format is considered legacy. We recommend using instead the native Keras format, e.g. `model.save('my_model.keras')` or `keras.saving.save_model(model, 'my_model.keras')`. \n"
          ]
        },
        {
          "name": "stdout",
          "output_type": "stream",
          "text": [
            "\b\b\b\b\b\b\b\b\b\b\b\b\b\b\b\b\b\b\b\b\b\b\b\b\b\b\b\b\b\b\b\b\b\b\b\b\b\b\b\b\b\b\b\b\b\b\b\b\b\b\b\b\b\b\b\b\b\b\b\b\b\b\b\b\b\b\b\b\b\b\b\b\b\b\b\b\b\b\b\b\b\b\b\b\b\b\b\b\b\b\b\b\b\b\b\b\b\b\b\b\b\b\b\b\b\b\b\b\b\b\b\b\b\b\b\b\b\b\b\b\b\b\b\b\b\b\b\b\b\b\b\b\b\b\b\b\b\b\b\b\b\b\b\b\b\b\b\b\b\b\b\b\b\b\b\b\b\b\b\b\b\b\b\b\b\b\b\b\b\b\b\b\r\u001b[1m1407/1407\u001b[0m \u001b[32m━━━━━━━━━━━━━━━━━━━━\u001b[0m\u001b[37m\u001b[0m \u001b[1m53s\u001b[0m 36ms/step - aux_output_accuracy: 0.8360 - aux_output_loss: 0.4880 - loss: 0.5789 - main_output_accuracy: 0.8508 - main_output_loss: 0.4326 - val_aux_output_accuracy: 0.8648 - val_aux_output_loss: 0.4043 - val_loss: 0.5092 - val_main_output_accuracy: 0.8650 - val_main_output_loss: 0.3885 - learning_rate: 5.0000e-04\n",
            "Epoch 22/50\n",
            "\u001b[1m1404/1407\u001b[0m \u001b[32m━━━━━━━━━━━━━━━━━━━\u001b[0m\u001b[37m━\u001b[0m \u001b[1m0s\u001b[0m 35ms/step - aux_output_accuracy: 0.8395 - aux_output_loss: 0.4739 - loss: 0.5634 - main_output_accuracy: 0.8541 - main_output_loss: 0.4213"
          ]
        },
        {
          "name": "stderr",
          "output_type": "stream",
          "text": [
            "WARNING:absl:You are saving your model as an HDF5 file via `model.save()` or `keras.saving.save_model(model)`. This file format is considered legacy. We recommend using instead the native Keras format, e.g. `model.save('my_model.keras')` or `keras.saving.save_model(model, 'my_model.keras')`. \n"
          ]
        },
        {
          "name": "stdout",
          "output_type": "stream",
          "text": [
            "\b\b\b\b\b\b\b\b\b\b\b\b\b\b\b\b\b\b\b\b\b\b\b\b\b\b\b\b\b\b\b\b\b\b\b\b\b\b\b\b\b\b\b\b\b\b\b\b\b\b\b\b\b\b\b\b\b\b\b\b\b\b\b\b\b\b\b\b\b\b\b\b\b\b\b\b\b\b\b\b\b\b\b\b\b\b\b\b\b\b\b\b\b\b\b\b\b\b\b\b\b\b\b\b\b\b\b\b\b\b\b\b\b\b\b\b\b\b\b\b\b\b\b\b\b\b\b\b\b\b\b\b\b\b\b\b\b\b\b\b\b\b\b\b\b\b\b\b\b\b\b\b\b\b\b\b\b\b\b\b\b\b\b\b\b\b\b\b\b\b\b\b\r\u001b[1m1407/1407\u001b[0m \u001b[32m━━━━━━━━━━━━━━━━━━━━\u001b[0m\u001b[37m\u001b[0m \u001b[1m53s\u001b[0m 36ms/step - aux_output_accuracy: 0.8395 - aux_output_loss: 0.4739 - loss: 0.5635 - main_output_accuracy: 0.8541 - main_output_loss: 0.4213 - val_aux_output_accuracy: 0.8682 - val_aux_output_loss: 0.4068 - val_loss: 0.5026 - val_main_output_accuracy: 0.8748 - val_main_output_loss: 0.3813 - learning_rate: 5.0000e-04\n",
            "Epoch 23/50\n",
            "\u001b[1m1407/1407\u001b[0m \u001b[32m━━━━━━━━━━━━━━━━━━━━\u001b[0m\u001b[37m\u001b[0m \u001b[1m53s\u001b[0m 36ms/step - aux_output_accuracy: 0.8430 - aux_output_loss: 0.4696 - loss: 0.5548 - main_output_accuracy: 0.8575 - main_output_loss: 0.4139 - val_aux_output_accuracy: 0.8644 - val_aux_output_loss: 0.4255 - val_loss: 0.5286 - val_main_output_accuracy: 0.8738 - val_main_output_loss: 0.4062 - learning_rate: 5.0000e-04\n",
            "Epoch 24/50\n",
            "\u001b[1m1407/1407\u001b[0m \u001b[32m━━━━━━━━━━━━━━━━━━━━\u001b[0m\u001b[37m\u001b[0m \u001b[1m53s\u001b[0m 36ms/step - aux_output_accuracy: 0.8494 - aux_output_loss: 0.4532 - loss: 0.5365 - main_output_accuracy: 0.8646 - main_output_loss: 0.4006 - val_aux_output_accuracy: 0.8632 - val_aux_output_loss: 0.4152 - val_loss: 0.5174 - val_main_output_accuracy: 0.8702 - val_main_output_loss: 0.3910 - learning_rate: 5.0000e-04\n",
            "Epoch 25/50\n",
            "\u001b[1m1407/1407\u001b[0m \u001b[32m━━━━━━━━━━━━━━━━━━━━\u001b[0m\u001b[37m\u001b[0m \u001b[1m53s\u001b[0m 37ms/step - aux_output_accuracy: 0.8513 - aux_output_loss: 0.4370 - loss: 0.5163 - main_output_accuracy: 0.8685 - main_output_loss: 0.3852 - val_aux_output_accuracy: 0.8612 - val_aux_output_loss: 0.4219 - val_loss: 0.5365 - val_main_output_accuracy: 0.8642 - val_main_output_loss: 0.4079 - learning_rate: 5.0000e-04\n",
            "Epoch 26/50\n",
            "\u001b[1m1406/1407\u001b[0m \u001b[32m━━━━━━━━━━━━━━━━━━━\u001b[0m\u001b[37m━\u001b[0m \u001b[1m0s\u001b[0m 35ms/step - aux_output_accuracy: 0.8630 - aux_output_loss: 0.4126 - loss: 0.4880 - main_output_accuracy: 0.8792 - main_output_loss: 0.3642"
          ]
        },
        {
          "name": "stderr",
          "output_type": "stream",
          "text": [
            "WARNING:absl:You are saving your model as an HDF5 file via `model.save()` or `keras.saving.save_model(model)`. This file format is considered legacy. We recommend using instead the native Keras format, e.g. `model.save('my_model.keras')` or `keras.saving.save_model(model, 'my_model.keras')`. \n"
          ]
        },
        {
          "name": "stdout",
          "output_type": "stream",
          "text": [
            "\b\b\b\b\b\b\b\b\b\b\b\b\b\b\b\b\b\b\b\b\b\b\b\b\b\b\b\b\b\b\b\b\b\b\b\b\b\b\b\b\b\b\b\b\b\b\b\b\b\b\b\b\b\b\b\b\b\b\b\b\b\b\b\b\b\b\b\b\b\b\b\b\b\b\b\b\b\b\b\b\b\b\b\b\b\b\b\b\b\b\b\b\b\b\b\b\b\b\b\b\b\b\b\b\b\b\b\b\b\b\b\b\b\b\b\b\b\b\b\b\b\b\b\b\b\b\b\b\b\b\b\b\b\b\b\b\b\b\b\b\b\b\b\b\b\b\b\b\b\b\b\b\b\b\b\b\b\b\b\b\b\b\b\b\b\b\b\b\b\b\b\b\r\u001b[1m1407/1407\u001b[0m \u001b[32m━━━━━━━━━━━━━━━━━━━━\u001b[0m\u001b[37m\u001b[0m \u001b[1m53s\u001b[0m 36ms/step - aux_output_accuracy: 0.8630 - aux_output_loss: 0.4126 - loss: 0.4880 - main_output_accuracy: 0.8792 - main_output_loss: 0.3642 - val_aux_output_accuracy: 0.8856 - val_aux_output_loss: 0.3708 - val_loss: 0.4615 - val_main_output_accuracy: 0.8862 - val_main_output_loss: 0.3548 - learning_rate: 2.5000e-04\n",
            "Epoch 27/50\n",
            "\u001b[1m1407/1407\u001b[0m \u001b[32m━━━━━━━━━━━━━━━━━━━━\u001b[0m\u001b[37m\u001b[0m \u001b[1m53s\u001b[0m 36ms/step - aux_output_accuracy: 0.8629 - aux_output_loss: 0.4032 - loss: 0.4736 - main_output_accuracy: 0.8786 - main_output_loss: 0.3526 - val_aux_output_accuracy: 0.8780 - val_aux_output_loss: 0.3952 - val_loss: 0.4963 - val_main_output_accuracy: 0.8810 - val_main_output_loss: 0.3754 - learning_rate: 2.5000e-04\n",
            "Epoch 28/50\n",
            "\u001b[1m1407/1407\u001b[0m \u001b[32m━━━━━━━━━━━━━━━━━━━━\u001b[0m\u001b[37m\u001b[0m \u001b[1m0s\u001b[0m 35ms/step - aux_output_accuracy: 0.8713 - aux_output_loss: 0.3857 - loss: 0.4527 - main_output_accuracy: 0.8853 - main_output_loss: 0.3370"
          ]
        },
        {
          "name": "stderr",
          "output_type": "stream",
          "text": [
            "WARNING:absl:You are saving your model as an HDF5 file via `model.save()` or `keras.saving.save_model(model)`. This file format is considered legacy. We recommend using instead the native Keras format, e.g. `model.save('my_model.keras')` or `keras.saving.save_model(model, 'my_model.keras')`. \n"
          ]
        },
        {
          "name": "stdout",
          "output_type": "stream",
          "text": [
            "\b\b\b\b\b\b\b\b\b\b\b\b\b\b\b\b\b\b\b\b\b\b\b\b\b\b\b\b\b\b\b\b\b\b\b\b\b\b\b\b\b\b\b\b\b\b\b\b\b\b\b\b\b\b\b\b\b\b\b\b\b\b\b\b\b\b\b\b\b\b\b\b\b\b\b\b\b\b\b\b\b\b\b\b\b\b\b\b\b\b\b\b\b\b\b\b\b\b\b\b\b\b\b\b\b\b\b\b\b\b\b\b\b\b\b\b\b\b\b\b\b\b\b\b\b\b\b\b\b\b\b\b\b\b\b\b\b\b\b\b\b\b\b\b\b\b\b\b\b\b\b\b\b\b\b\b\b\b\b\b\b\b\b\b\b\b\b\b\b\b\b\b\r\u001b[1m1407/1407\u001b[0m \u001b[32m━━━━━━━━━━━━━━━━━━━━\u001b[0m\u001b[37m\u001b[0m \u001b[1m53s\u001b[0m 36ms/step - aux_output_accuracy: 0.8713 - aux_output_loss: 0.3857 - loss: 0.4528 - main_output_accuracy: 0.8853 - main_output_loss: 0.3370 - val_aux_output_accuracy: 0.8848 - val_aux_output_loss: 0.3660 - val_loss: 0.4543 - val_main_output_accuracy: 0.8902 - val_main_output_loss: 0.3464 - learning_rate: 2.5000e-04\n",
            "Epoch 29/50\n",
            "\u001b[1m1406/1407\u001b[0m \u001b[32m━━━━━━━━━━━━━━━━━━━\u001b[0m\u001b[37m━\u001b[0m \u001b[1m0s\u001b[0m 34ms/step - aux_output_accuracy: 0.8757 - aux_output_loss: 0.3748 - loss: 0.4388 - main_output_accuracy: 0.8884 - main_output_loss: 0.3263"
          ]
        },
        {
          "name": "stderr",
          "output_type": "stream",
          "text": [
            "WARNING:absl:You are saving your model as an HDF5 file via `model.save()` or `keras.saving.save_model(model)`. This file format is considered legacy. We recommend using instead the native Keras format, e.g. `model.save('my_model.keras')` or `keras.saving.save_model(model, 'my_model.keras')`. \n"
          ]
        },
        {
          "name": "stdout",
          "output_type": "stream",
          "text": [
            "\b\b\b\b\b\b\b\b\b\b\b\b\b\b\b\b\b\b\b\b\b\b\b\b\b\b\b\b\b\b\b\b\b\b\b\b\b\b\b\b\b\b\b\b\b\b\b\b\b\b\b\b\b\b\b\b\b\b\b\b\b\b\b\b\b\b\b\b\b\b\b\b\b\b\b\b\b\b\b\b\b\b\b\b\b\b\b\b\b\b\b\b\b\b\b\b\b\b\b\b\b\b\b\b\b\b\b\b\b\b\b\b\b\b\b\b\b\b\b\b\b\b\b\b\b\b\b\b\b\b\b\b\b\b\b\b\b\b\b\b\b\b\b\b\b\b\b\b\b\b\b\b\b\b\b\b\b\b\b\b\b\b\b\b\b\b\b\b\b\b\b\b\r\u001b[1m1407/1407\u001b[0m \u001b[32m━━━━━━━━━━━━━━━━━━━━\u001b[0m\u001b[37m\u001b[0m \u001b[1m53s\u001b[0m 36ms/step - aux_output_accuracy: 0.8757 - aux_output_loss: 0.3749 - loss: 0.4388 - main_output_accuracy: 0.8884 - main_output_loss: 0.3263 - val_aux_output_accuracy: 0.8870 - val_aux_output_loss: 0.3638 - val_loss: 0.4518 - val_main_output_accuracy: 0.8870 - val_main_output_loss: 0.3405 - learning_rate: 2.5000e-04\n",
            "Epoch 30/50\n",
            "\u001b[1m1405/1407\u001b[0m \u001b[32m━━━━━━━━━━━━━━━━━━━\u001b[0m\u001b[37m━\u001b[0m \u001b[1m0s\u001b[0m 35ms/step - aux_output_accuracy: 0.8755 - aux_output_loss: 0.3765 - loss: 0.4429 - main_output_accuracy: 0.8866 - main_output_loss: 0.3299"
          ]
        },
        {
          "name": "stderr",
          "output_type": "stream",
          "text": [
            "WARNING:absl:You are saving your model as an HDF5 file via `model.save()` or `keras.saving.save_model(model)`. This file format is considered legacy. We recommend using instead the native Keras format, e.g. `model.save('my_model.keras')` or `keras.saving.save_model(model, 'my_model.keras')`. \n"
          ]
        },
        {
          "name": "stdout",
          "output_type": "stream",
          "text": [
            "\b\b\b\b\b\b\b\b\b\b\b\b\b\b\b\b\b\b\b\b\b\b\b\b\b\b\b\b\b\b\b\b\b\b\b\b\b\b\b\b\b\b\b\b\b\b\b\b\b\b\b\b\b\b\b\b\b\b\b\b\b\b\b\b\b\b\b\b\b\b\b\b\b\b\b\b\b\b\b\b\b\b\b\b\b\b\b\b\b\b\b\b\b\b\b\b\b\b\b\b\b\b\b\b\b\b\b\b\b\b\b\b\b\b\b\b\b\b\b\b\b\b\b\b\b\b\b\b\b\b\b\b\b\b\b\b\b\b\b\b\b\b\b\b\b\b\b\b\b\b\b\b\b\b\b\b\b\b\b\b\b\b\b\b\b\b\b\b\b\b\b\b\r\u001b[1m1407/1407\u001b[0m \u001b[32m━━━━━━━━━━━━━━━━━━━━\u001b[0m\u001b[37m\u001b[0m \u001b[1m52s\u001b[0m 36ms/step - aux_output_accuracy: 0.8755 - aux_output_loss: 0.3765 - loss: 0.4429 - main_output_accuracy: 0.8866 - main_output_loss: 0.3299 - val_aux_output_accuracy: 0.8840 - val_aux_output_loss: 0.3727 - val_loss: 0.4516 - val_main_output_accuracy: 0.8908 - val_main_output_loss: 0.3394 - learning_rate: 2.5000e-04\n",
            "Epoch 31/50\n",
            "\u001b[1m1407/1407\u001b[0m \u001b[32m━━━━━━━━━━━━━━━━━━━━\u001b[0m\u001b[37m\u001b[0m \u001b[1m53s\u001b[0m 36ms/step - aux_output_accuracy: 0.8738 - aux_output_loss: 0.3756 - loss: 0.4398 - main_output_accuracy: 0.8874 - main_output_loss: 0.3272 - val_aux_output_accuracy: 0.8878 - val_aux_output_loss: 0.3595 - val_loss: 0.4547 - val_main_output_accuracy: 0.8912 - val_main_output_loss: 0.3449 - learning_rate: 2.5000e-04\n",
            "Epoch 32/50\n",
            "\u001b[1m1407/1407\u001b[0m \u001b[32m━━━━━━━━━━━━━━━━━━━━\u001b[0m\u001b[37m\u001b[0m \u001b[1m52s\u001b[0m 36ms/step - aux_output_accuracy: 0.8749 - aux_output_loss: 0.3668 - loss: 0.4283 - main_output_accuracy: 0.8906 - main_output_loss: 0.3183 - val_aux_output_accuracy: 0.8904 - val_aux_output_loss: 0.3706 - val_loss: 0.4615 - val_main_output_accuracy: 0.8890 - val_main_output_loss: 0.3546 - learning_rate: 2.5000e-04\n",
            "Epoch 33/50\n",
            "\u001b[1m1407/1407\u001b[0m \u001b[32m━━━━━━━━━━━━━━━━━━━━\u001b[0m\u001b[37m\u001b[0m \u001b[1m52s\u001b[0m 36ms/step - aux_output_accuracy: 0.8799 - aux_output_loss: 0.3593 - loss: 0.4186 - main_output_accuracy: 0.8922 - main_output_loss: 0.3108 - val_aux_output_accuracy: 0.8730 - val_aux_output_loss: 0.4049 - val_loss: 0.5040 - val_main_output_accuracy: 0.8798 - val_main_output_loss: 0.3847 - learning_rate: 2.5000e-04\n",
            "Epoch 34/50\n",
            "\u001b[1m1407/1407\u001b[0m \u001b[32m━━━━━━━━━━━━━━━━━━━━\u001b[0m\u001b[37m\u001b[0m \u001b[1m0s\u001b[0m 34ms/step - aux_output_accuracy: 0.8818 - aux_output_loss: 0.3539 - loss: 0.4172 - main_output_accuracy: 0.8929 - main_output_loss: 0.3110"
          ]
        },
        {
          "name": "stderr",
          "output_type": "stream",
          "text": [
            "WARNING:absl:You are saving your model as an HDF5 file via `model.save()` or `keras.saving.save_model(model)`. This file format is considered legacy. We recommend using instead the native Keras format, e.g. `model.save('my_model.keras')` or `keras.saving.save_model(model, 'my_model.keras')`. \n"
          ]
        },
        {
          "name": "stdout",
          "output_type": "stream",
          "text": [
            "\b\b\b\b\b\b\b\b\b\b\b\b\b\b\b\b\b\b\b\b\b\b\b\b\b\b\b\b\b\b\b\b\b\b\b\b\b\b\b\b\b\b\b\b\b\b\b\b\b\b\b\b\b\b\b\b\b\b\b\b\b\b\b\b\b\b\b\b\b\b\b\b\b\b\b\b\b\b\b\b\b\b\b\b\b\b\b\b\b\b\b\b\b\b\b\b\b\b\b\b\b\b\b\b\b\b\b\b\b\b\b\b\b\b\b\b\b\b\b\b\b\b\b\b\b\b\b\b\b\b\b\b\b\b\b\b\b\b\b\b\b\b\b\b\b\b\b\b\b\b\b\b\b\b\b\b\b\b\b\b\b\b\b\b\b\b\b\b\b\b\b\b\r\u001b[1m1407/1407\u001b[0m \u001b[32m━━━━━━━━━━━━━━━━━━━━\u001b[0m\u001b[37m\u001b[0m \u001b[1m52s\u001b[0m 36ms/step - aux_output_accuracy: 0.8818 - aux_output_loss: 0.3539 - loss: 0.4172 - main_output_accuracy: 0.8929 - main_output_loss: 0.3110 - val_aux_output_accuracy: 0.8958 - val_aux_output_loss: 0.3472 - val_loss: 0.4275 - val_main_output_accuracy: 0.9032 - val_main_output_loss: 0.3272 - learning_rate: 1.2500e-04\n",
            "Epoch 35/50\n",
            "\u001b[1m1403/1407\u001b[0m \u001b[32m━━━━━━━━━━━━━━━━━━━\u001b[0m\u001b[37m━\u001b[0m \u001b[1m0s\u001b[0m 34ms/step - aux_output_accuracy: 0.8849 - aux_output_loss: 0.3381 - loss: 0.3945 - main_output_accuracy: 0.8995 - main_output_loss: 0.2930"
          ]
        },
        {
          "name": "stderr",
          "output_type": "stream",
          "text": [
            "WARNING:absl:You are saving your model as an HDF5 file via `model.save()` or `keras.saving.save_model(model)`. This file format is considered legacy. We recommend using instead the native Keras format, e.g. `model.save('my_model.keras')` or `keras.saving.save_model(model, 'my_model.keras')`. \n"
          ]
        },
        {
          "name": "stdout",
          "output_type": "stream",
          "text": [
            "\b\b\b\b\b\b\b\b\b\b\b\b\b\b\b\b\b\b\b\b\b\b\b\b\b\b\b\b\b\b\b\b\b\b\b\b\b\b\b\b\b\b\b\b\b\b\b\b\b\b\b\b\b\b\b\b\b\b\b\b\b\b\b\b\b\b\b\b\b\b\b\b\b\b\b\b\b\b\b\b\b\b\b\b\b\b\b\b\b\b\b\b\b\b\b\b\b\b\b\b\b\b\b\b\b\b\b\b\b\b\b\b\b\b\b\b\b\b\b\b\b\b\b\b\b\b\b\b\b\b\b\b\b\b\b\b\b\b\b\b\b\b\b\b\b\b\b\b\b\b\b\b\b\b\b\b\b\b\b\b\b\b\b\b\b\b\b\b\b\b\b\b\r\u001b[1m1407/1407\u001b[0m \u001b[32m━━━━━━━━━━━━━━━━━━━━\u001b[0m\u001b[37m\u001b[0m \u001b[1m52s\u001b[0m 36ms/step - aux_output_accuracy: 0.8849 - aux_output_loss: 0.3381 - loss: 0.3945 - main_output_accuracy: 0.8995 - main_output_loss: 0.2930 - val_aux_output_accuracy: 0.8942 - val_aux_output_loss: 0.3446 - val_loss: 0.4245 - val_main_output_accuracy: 0.9000 - val_main_output_loss: 0.3198 - learning_rate: 1.2500e-04\n",
            "Epoch 36/50\n",
            "\u001b[1m1407/1407\u001b[0m \u001b[32m━━━━━━━━━━━━━━━━━━━━\u001b[0m\u001b[37m\u001b[0m \u001b[1m52s\u001b[0m 36ms/step - aux_output_accuracy: 0.8905 - aux_output_loss: 0.3276 - loss: 0.3822 - main_output_accuracy: 0.9042 - main_output_loss: 0.2840 - val_aux_output_accuracy: 0.8940 - val_aux_output_loss: 0.3469 - val_loss: 0.4344 - val_main_output_accuracy: 0.8984 - val_main_output_loss: 0.3304 - learning_rate: 1.2500e-04\n",
            "Epoch 37/50\n",
            "\u001b[1m1407/1407\u001b[0m \u001b[32m━━━━━━━━━━━━━━━━━━━━\u001b[0m\u001b[37m\u001b[0m \u001b[1m53s\u001b[0m 36ms/step - aux_output_accuracy: 0.8851 - aux_output_loss: 0.3379 - loss: 0.3927 - main_output_accuracy: 0.9018 - main_output_loss: 0.2913 - val_aux_output_accuracy: 0.8950 - val_aux_output_loss: 0.3475 - val_loss: 0.4325 - val_main_output_accuracy: 0.9004 - val_main_output_loss: 0.3265 - learning_rate: 1.2500e-04\n",
            "Epoch 38/50\n",
            "\u001b[1m1407/1407\u001b[0m \u001b[32m━━━━━━━━━━━━━━━━━━━━\u001b[0m\u001b[37m\u001b[0m \u001b[1m52s\u001b[0m 36ms/step - aux_output_accuracy: 0.8873 - aux_output_loss: 0.3309 - loss: 0.3833 - main_output_accuracy: 0.9034 - main_output_loss: 0.2840 - val_aux_output_accuracy: 0.8974 - val_aux_output_loss: 0.3402 - val_loss: 0.4262 - val_main_output_accuracy: 0.9002 - val_main_output_loss: 0.3227 - learning_rate: 1.2500e-04\n",
            "Epoch 39/50\n",
            "\u001b[1m1407/1407\u001b[0m \u001b[32m━━━━━━━━━━━━━━━━━━━━\u001b[0m\u001b[37m\u001b[0m \u001b[1m52s\u001b[0m 36ms/step - aux_output_accuracy: 0.8919 - aux_output_loss: 0.3206 - loss: 0.3700 - main_output_accuracy: 0.9069 - main_output_loss: 0.2738 - val_aux_output_accuracy: 0.8930 - val_aux_output_loss: 0.3547 - val_loss: 0.4437 - val_main_output_accuracy: 0.8988 - val_main_output_loss: 0.3376 - learning_rate: 6.2500e-05\n",
            "Epoch 40/50\n",
            "\u001b[1m1407/1407\u001b[0m \u001b[32m━━━━━━━━━━━━━━━━━━━━\u001b[0m\u001b[37m\u001b[0m \u001b[1m52s\u001b[0m 36ms/step - aux_output_accuracy: 0.8898 - aux_output_loss: 0.3213 - loss: 0.3744 - main_output_accuracy: 0.9049 - main_output_loss: 0.2780 - val_aux_output_accuracy: 0.8992 - val_aux_output_loss: 0.3455 - val_loss: 0.4344 - val_main_output_accuracy: 0.9046 - val_main_output_loss: 0.3295 - learning_rate: 6.2500e-05\n",
            "Epoch 41/50\n",
            "\u001b[1m1407/1407\u001b[0m \u001b[32m━━━━━━━━━━━━━━━━━━━━\u001b[0m\u001b[37m\u001b[0m \u001b[1m52s\u001b[0m 36ms/step - aux_output_accuracy: 0.8958 - aux_output_loss: 0.3110 - loss: 0.3647 - main_output_accuracy: 0.9085 - main_output_loss: 0.2714 - val_aux_output_accuracy: 0.8972 - val_aux_output_loss: 0.3469 - val_loss: 0.4306 - val_main_output_accuracy: 0.9018 - val_main_output_loss: 0.3288 - learning_rate: 6.2500e-05\n",
            "Epoch 42/50\n",
            "\u001b[1m1403/1407\u001b[0m \u001b[32m━━━━━━━━━━━━━━━━━━━\u001b[0m\u001b[37m━\u001b[0m \u001b[1m0s\u001b[0m 35ms/step - aux_output_accuracy: 0.8962 - aux_output_loss: 0.3134 - loss: 0.3642 - main_output_accuracy: 0.9067 - main_output_loss: 0.2702"
          ]
        },
        {
          "name": "stderr",
          "output_type": "stream",
          "text": [
            "WARNING:absl:You are saving your model as an HDF5 file via `model.save()` or `keras.saving.save_model(model)`. This file format is considered legacy. We recommend using instead the native Keras format, e.g. `model.save('my_model.keras')` or `keras.saving.save_model(model, 'my_model.keras')`. \n"
          ]
        },
        {
          "name": "stdout",
          "output_type": "stream",
          "text": [
            "\b\b\b\b\b\b\b\b\b\b\b\b\b\b\b\b\b\b\b\b\b\b\b\b\b\b\b\b\b\b\b\b\b\b\b\b\b\b\b\b\b\b\b\b\b\b\b\b\b\b\b\b\b\b\b\b\b\b\b\b\b\b\b\b\b\b\b\b\b\b\b\b\b\b\b\b\b\b\b\b\b\b\b\b\b\b\b\b\b\b\b\b\b\b\b\b\b\b\b\b\b\b\b\b\b\b\b\b\b\b\b\b\b\b\b\b\b\b\b\b\b\b\b\b\b\b\b\b\b\b\b\b\b\b\b\b\b\b\b\b\b\b\b\b\b\b\b\b\b\b\b\b\b\b\b\b\b\b\b\b\b\b\b\b\b\b\b\b\b\b\b\b\r\u001b[1m1407/1407\u001b[0m \u001b[32m━━━━━━━━━━━━━━━━━━━━\u001b[0m\u001b[37m\u001b[0m \u001b[1m53s\u001b[0m 36ms/step - aux_output_accuracy: 0.8962 - aux_output_loss: 0.3134 - loss: 0.3642 - main_output_accuracy: 0.9067 - main_output_loss: 0.2702 - val_aux_output_accuracy: 0.8984 - val_aux_output_loss: 0.3370 - val_loss: 0.4234 - val_main_output_accuracy: 0.9052 - val_main_output_loss: 0.3207 - learning_rate: 3.1250e-05\n",
            "Epoch 43/50\n",
            "\u001b[1m1407/1407\u001b[0m \u001b[32m━━━━━━━━━━━━━━━━━━━━\u001b[0m\u001b[37m\u001b[0m \u001b[1m0s\u001b[0m 35ms/step - aux_output_accuracy: 0.8949 - aux_output_loss: 0.3149 - loss: 0.3626 - main_output_accuracy: 0.9092 - main_output_loss: 0.2681"
          ]
        },
        {
          "name": "stderr",
          "output_type": "stream",
          "text": [
            "WARNING:absl:You are saving your model as an HDF5 file via `model.save()` or `keras.saving.save_model(model)`. This file format is considered legacy. We recommend using instead the native Keras format, e.g. `model.save('my_model.keras')` or `keras.saving.save_model(model, 'my_model.keras')`. \n"
          ]
        },
        {
          "name": "stdout",
          "output_type": "stream",
          "text": [
            "\b\b\b\b\b\b\b\b\b\b\b\b\b\b\b\b\b\b\b\b\b\b\b\b\b\b\b\b\b\b\b\b\b\b\b\b\b\b\b\b\b\b\b\b\b\b\b\b\b\b\b\b\b\b\b\b\b\b\b\b\b\b\b\b\b\b\b\b\b\b\b\b\b\b\b\b\b\b\b\b\b\b\b\b\b\b\b\b\b\b\b\b\b\b\b\b\b\b\b\b\b\b\b\b\b\b\b\b\b\b\b\b\b\b\b\b\b\b\b\b\b\b\b\b\b\b\b\b\b\b\b\b\b\b\b\b\b\b\b\b\b\b\b\b\b\b\b\b\b\b\b\b\b\b\b\b\b\b\b\b\b\b\b\b\b\b\b\b\b\b\b\b\r\u001b[1m1407/1407\u001b[0m \u001b[32m━━━━━━━━━━━━━━━━━━━━\u001b[0m\u001b[37m\u001b[0m \u001b[1m53s\u001b[0m 37ms/step - aux_output_accuracy: 0.8949 - aux_output_loss: 0.3149 - loss: 0.3626 - main_output_accuracy: 0.9092 - main_output_loss: 0.2681 - val_aux_output_accuracy: 0.8994 - val_aux_output_loss: 0.3423 - val_loss: 0.4229 - val_main_output_accuracy: 0.9046 - val_main_output_loss: 0.3201 - learning_rate: 3.1250e-05\n",
            "Epoch 44/50\n",
            "\u001b[1m1407/1407\u001b[0m \u001b[32m━━━━━━━━━━━━━━━━━━━━\u001b[0m\u001b[37m\u001b[0m \u001b[1m52s\u001b[0m 36ms/step - aux_output_accuracy: 0.8975 - aux_output_loss: 0.3084 - loss: 0.3588 - main_output_accuracy: 0.9088 - main_output_loss: 0.2663 - val_aux_output_accuracy: 0.8984 - val_aux_output_loss: 0.3392 - val_loss: 0.4232 - val_main_output_accuracy: 0.9050 - val_main_output_loss: 0.3198 - learning_rate: 3.1250e-05\n",
            "Epoch 45/50\n",
            "\u001b[1m1407/1407\u001b[0m \u001b[32m━━━━━━━━━━━━━━━━━━━━\u001b[0m\u001b[37m\u001b[0m \u001b[1m52s\u001b[0m 36ms/step - aux_output_accuracy: 0.8978 - aux_output_loss: 0.3022 - loss: 0.3547 - main_output_accuracy: 0.9096 - main_output_loss: 0.2640 - val_aux_output_accuracy: 0.9000 - val_aux_output_loss: 0.3380 - val_loss: 0.4246 - val_main_output_accuracy: 0.9036 - val_main_output_loss: 0.3214 - learning_rate: 3.1250e-05\n",
            "Epoch 46/50\n",
            "\u001b[1m1407/1407\u001b[0m \u001b[32m━━━━━━━━━━━━━━━━━━━━\u001b[0m\u001b[37m\u001b[0m \u001b[1m52s\u001b[0m 36ms/step - aux_output_accuracy: 0.8966 - aux_output_loss: 0.3086 - loss: 0.3595 - main_output_accuracy: 0.9078 - main_output_loss: 0.2669 - val_aux_output_accuracy: 0.9008 - val_aux_output_loss: 0.3401 - val_loss: 0.4275 - val_main_output_accuracy: 0.9064 - val_main_output_loss: 0.3248 - learning_rate: 3.1250e-05\n",
            "Epoch 47/50\n",
            "\u001b[1m1407/1407\u001b[0m \u001b[32m━━━━━━━━━━━━━━━━━━━━\u001b[0m\u001b[37m\u001b[0m \u001b[1m53s\u001b[0m 36ms/step - aux_output_accuracy: 0.8969 - aux_output_loss: 0.3037 - loss: 0.3523 - main_output_accuracy: 0.9098 - main_output_loss: 0.2612 - val_aux_output_accuracy: 0.8988 - val_aux_output_loss: 0.3390 - val_loss: 0.4247 - val_main_output_accuracy: 0.9056 - val_main_output_loss: 0.3222 - learning_rate: 1.5625e-05\n",
            "Epoch 48/50\n",
            "\u001b[1m1407/1407\u001b[0m \u001b[32m━━━━━━━━━━━━━━━━━━━━\u001b[0m\u001b[37m\u001b[0m \u001b[1m0s\u001b[0m 35ms/step - aux_output_accuracy: 0.8940 - aux_output_loss: 0.3101 - loss: 0.3625 - main_output_accuracy: 0.9085 - main_output_loss: 0.2695"
          ]
        },
        {
          "name": "stderr",
          "output_type": "stream",
          "text": [
            "WARNING:absl:You are saving your model as an HDF5 file via `model.save()` or `keras.saving.save_model(model)`. This file format is considered legacy. We recommend using instead the native Keras format, e.g. `model.save('my_model.keras')` or `keras.saving.save_model(model, 'my_model.keras')`. \n"
          ]
        },
        {
          "name": "stdout",
          "output_type": "stream",
          "text": [
            "\b\b\b\b\b\b\b\b\b\b\b\b\b\b\b\b\b\b\b\b\b\b\b\b\b\b\b\b\b\b\b\b\b\b\b\b\b\b\b\b\b\b\b\b\b\b\b\b\b\b\b\b\b\b\b\b\b\b\b\b\b\b\b\b\b\b\b\b\b\b\b\b\b\b\b\b\b\b\b\b\b\b\b\b\b\b\b\b\b\b\b\b\b\b\b\b\b\b\b\b\b\b\b\b\b\b\b\b\b\b\b\b\b\b\b\b\b\b\b\b\b\b\b\b\b\b\b\b\b\b\b\b\b\b\b\b\b\b\b\b\b\b\b\b\b\b\b\b\b\b\b\b\b\b\b\b\b\b\b\b\b\b\b\b\b\b\b\b\b\b\b\b\r\u001b[1m1407/1407\u001b[0m \u001b[32m━━━━━━━━━━━━━━━━━━━━\u001b[0m\u001b[37m\u001b[0m \u001b[1m53s\u001b[0m 37ms/step - aux_output_accuracy: 0.8940 - aux_output_loss: 0.3101 - loss: 0.3625 - main_output_accuracy: 0.9085 - main_output_loss: 0.2695 - val_aux_output_accuracy: 0.8986 - val_aux_output_loss: 0.3370 - val_loss: 0.4209 - val_main_output_accuracy: 0.9048 - val_main_output_loss: 0.3188 - learning_rate: 1.5625e-05\n",
            "Epoch 49/50\n",
            "\u001b[1m1407/1407\u001b[0m \u001b[32m━━━━━━━━━━━━━━━━━━━━\u001b[0m\u001b[37m\u001b[0m \u001b[1m53s\u001b[0m 37ms/step - aux_output_accuracy: 0.8970 - aux_output_loss: 0.3057 - loss: 0.3565 - main_output_accuracy: 0.9100 - main_output_loss: 0.2648 - val_aux_output_accuracy: 0.8968 - val_aux_output_loss: 0.3377 - val_loss: 0.4246 - val_main_output_accuracy: 0.9026 - val_main_output_loss: 0.3216 - learning_rate: 1.5625e-05\n",
            "Epoch 50/50\n",
            "\u001b[1m1407/1407\u001b[0m \u001b[32m━━━━━━━━━━━━━━━━━━━━\u001b[0m\u001b[37m\u001b[0m \u001b[1m53s\u001b[0m 36ms/step - aux_output_accuracy: 0.9033 - aux_output_loss: 0.2912 - loss: 0.3408 - main_output_accuracy: 0.9147 - main_output_loss: 0.2535 - val_aux_output_accuracy: 0.8984 - val_aux_output_loss: 0.3399 - val_loss: 0.4260 - val_main_output_accuracy: 0.9054 - val_main_output_loss: 0.3220 - learning_rate: 1.5625e-05\n"
          ]
        }
      ],
      "source": [
        "model, history = train_model(train_ds, val_ds)"
      ]
    },
    {
      "cell_type": "markdown",
      "metadata": {
        "id": "XQOjvzoUf4pg"
      },
      "source": [
        "### Evaluate"
      ]
    },
    {
      "cell_type": "code",
      "execution_count": 24,
      "metadata": {
        "colab": {
          "base_uri": "https://localhost:8080/"
        },
        "id": "67h9BrcsQBHk",
        "outputId": "4d9040be-e197-4fcd-eb76-f53036aaf83e"
      },
      "outputs": [
        {
          "name": "stdout",
          "output_type": "stream",
          "text": [
            "\u001b[1m1407/1407\u001b[0m \u001b[32m━━━━━━━━━━━━━━━━━━━━\u001b[0m\u001b[37m\u001b[0m \u001b[1m7s\u001b[0m 5ms/step - aux_output_accuracy: 0.9929 - aux_output_loss: 0.0306 - loss: 0.0353 - main_output_accuracy: 0.9945 - main_output_loss: 0.0261\n",
            "Training Accuracy: 0.9931\n"
          ]
        }
      ],
      "source": [
        "# for original training accuracy\n",
        "train_loss, main_train_loss, aux_train_loss, main_train_acc, aux_train_acc = model.evaluate(train_ds_original)\n",
        "print(f\"Original Training Accuracy: {main_train_acc:.4f}\")"
      ]
    },
    {
      "cell_type": "code",
      "execution_count": 33,
      "metadata": {
        "colab": {
          "base_uri": "https://localhost:8080/"
        },
        "id": "848iqgjSR4OY",
        "outputId": "133bdc9e-5d25-4a03-e962-c900b3179782"
      },
      "outputs": [
        {
          "name": "stdout",
          "output_type": "stream",
          "text": [
            "\u001b[1m1407/1407\u001b[0m \u001b[32m━━━━━━━━━━━━━━━━━━━━\u001b[0m\u001b[37m\u001b[0m \u001b[1m52s\u001b[0m 35ms/step - aux_output_accuracy: 0.9193 - aux_output_loss: 0.2358 - loss: 0.2847 - main_output_accuracy: 0.9259 - main_output_loss: 0.2139\n",
            "Training Accuracy: 0.9194\n"
          ]
        }
      ],
      "source": [
        "# for augmented training accuracy\n",
        "train_loss, main_train_loss, aux_train_loss, main_train_acc, aux_train_acc = model.evaluate(train_ds)\n",
        "print(f\"Training Accuracy: {main_train_acc:.4f}\")"
      ]
    },
    {
      "cell_type": "code",
      "execution_count": 34,
      "metadata": {
        "colab": {
          "base_uri": "https://localhost:8080/"
        },
        "id": "1H6-hFKJRqSz",
        "outputId": "42f6b2f6-a6a2-4aba-c729-fe2f5ef90338"
      },
      "outputs": [
        {
          "name": "stdout",
          "output_type": "stream",
          "text": [
            "\u001b[1m157/157\u001b[0m \u001b[32m━━━━━━━━━━━━━━━━━━━━\u001b[0m\u001b[37m\u001b[0m \u001b[1m1s\u001b[0m 4ms/step - aux_output_accuracy: 0.8947 - aux_output_loss: 0.3546 - loss: 0.4349 - main_output_accuracy: 0.9044 - main_output_loss: 0.3285\n",
            "Validation Accuracy: 0.8984\n"
          ]
        }
      ],
      "source": [
        "# for validation accuracy\n",
        "val_loss, main_val_loss, aux_val_loss, main_val_acc, aux_val_acc = model.evaluate(val_ds)\n",
        "print(f\"Validation Accuracy: {main_val_acc:.4f}\")"
      ]
    },
    {
      "cell_type": "code",
      "execution_count": 44,
      "metadata": {
        "colab": {
          "base_uri": "https://localhost:8080/"
        },
        "id": "gkgZND3VSMjx",
        "outputId": "f26bca31-81f0-4240-f003-d5b628277020"
      },
      "outputs": [
        {
          "name": "stdout",
          "output_type": "stream",
          "text": [
            "\u001b[1m313/313\u001b[0m \u001b[32m━━━━━━━━━━━━━━━━━━━━\u001b[0m\u001b[37m\u001b[0m \u001b[1m1s\u001b[0m 4ms/step - aux_output_accuracy: 0.8975 - aux_output_loss: 0.3382 - loss: 0.4169 - main_output_accuracy: 0.9024 - main_output_loss: 0.3154\n",
            "Validation Accuracy: 0.8987\n"
          ]
        }
      ],
      "source": [
        "# for test accuracy\n",
        "test_loss, main_test_loss, aux_test_loss, main_test_acc, aux_test_acc = model.evaluate(test_ds)\n",
        "print(f\"Test Accuracy: {main_test_acc:.4f}\")"
      ]
    },
    {
      "cell_type": "code",
      "execution_count": 15,
      "metadata": {
        "colab": {
          "base_uri": "https://localhost:8080/",
          "height": 472
        },
        "id": "o732DCYOc4Dh",
        "outputId": "9fafb771-50f2-4197-e47f-a79ba75796d2"
      },
      "outputs": [
        {
          "data": {
            "image/png": "[encoded data removed]",
            "text/plain": [
              "<Figure size 640x480 with 1 Axes>"
            ]
          },
          "metadata": {},
          "output_type": "display_data"
        }
      ],
      "source": [
        "# plot the loss curve\n",
        "loss_curve = history.history[\"loss\"]\n",
        "val_loss_curve = history.history[\"val_loss\"]\n",
        "epochs = range(1, len(loss_curve) + 1)\n",
        "plt.plot(epochs, loss_curve, 'y', label=\"Training Loss\")\n",
        "plt.plot(epochs, val_loss_curve, 'r', label=\"Val Loss\")\n",
        "plt.title(\"Training Loss and Validation Loss\")\n",
        "plt.xlabel(\"Epochs\")\n",
        "plt.ylabel(\"Loss\")\n",
        "plt.legend()\n",
        "plt.show()"
      ]
    },
    {
      "cell_type": "code",
      "execution_count": 45,
      "metadata": {
        "colab": {
          "base_uri": "https://localhost:8080/",
          "height": 472
        },
        "id": "HCUKm_Src4BB",
        "outputId": "d5100e59-be35-4dd8-d357-6682d216d237"
      },
      "outputs": [
        {
          "data": {
            "image/png": "[encoded data removed]",
            "text/plain": [
              "<Figure size 640x480 with 1 Axes>"
            ]
          },
          "metadata": {},
          "output_type": "display_data"
        }
      ],
      "source": [
        "# plot the accuracy curve\n",
        "plt.plot(history.history['main_output_accuracy'], label='Main Output Accuracy')\n",
        "plt.plot(history.history['aux_output_accuracy'], label='Aux Output Accuracy')\n",
        "plt.plot(history.history['val_main_output_accuracy'], label='Val Main Accuracy')\n",
        "plt.plot(history.history['val_aux_output_accuracy'], label='Val Aux Accuracy')\n",
        "plt.title(\"Training and Validation Accuracy\")\n",
        "plt.xlabel(\"Epochs\")\n",
        "plt.ylabel(\"Accuracy\")\n",
        "plt.legend()\n",
        "plt.show()"
      ]
    },
    {
      "cell_type": "markdown",
      "metadata": {},
      "source": [
        "### **Performance Analysis**\n",
        "\n",
        "#### **Model Architecture and Training Setup**\n",
        "- **Architecture**: Inception-style model (similar to GoogLeNet)\n",
        "- **Dataset**: CIFAR-10\n",
        "- **Data Distribution**:\n",
        "  - Training: 45,000 images\n",
        "  - Validation: 5,000 images\n",
        "  - Test: 10,000 images\n",
        "- **Training Parameters**:\n",
        "  - Epochs: 50\n",
        "  - Batch Size: 32\n",
        "  - Auxiliary Classifier: 1\n",
        "  - Total Parameters: 1.6M\n",
        "- **Data Augmentation**: TensorFlow RandAugment\n",
        "\n",
        "#### **Performance Metrics**\n",
        "\n",
        "| Model | Training Accuracy (%) | Test Accuracy (%) | Parameters (Millions) | Epochs |\n",
        "|-------|----------------------|-------------------|----------------------|--------|\n",
        "| AlexNet | 81.97 | 77.53 | 3.2M | 50 |\n",
        "| VGG + BatchNorm | 95.29 | 86.58 | 33.6M | 50 |\n",
        "| Inception + BatchNorm (Original) | 99.31 | 89.87 | 1.6M | 50 |\n",
        "| Inception + BatchNorm (Augmented) | 91.94 | 89.87 | 1.6M | 50 |\n",
        "\n",
        "#### **Model Efficiency**\n",
        "The Inception model demonstrates remarkable efficiency, achieving superior performance with significantly fewer parameters:\n",
        "- 50% fewer parameters than AlexNet\n",
        "- 95% fewer parameters than VGG with BatchNorm\n",
        "This efficiency showcases the effectiveness of the Inception architecture's design principles.\n",
        "\n",
        "#### **Performance Comparison**\n",
        "The Inception model outperforms both baseline models:\n",
        "- 12.34% improvement over AlexNet in test accuracy\n",
        "- 3.29% improvement over VGG in test accuracy\n",
        "These improvements are particularly impressive given the model's smaller parameter count.\n",
        "\n",
        "#### **Overfitting Analysis**\n",
        "The model exhibits signs of overfitting when trained on original data:\n",
        "- High training accuracy (99.31%) vs. test accuracy (89.87%)\n",
        "- ~9.44% gap between training and test performance\n",
        "\n",
        "Data augmentation effectively addresses this issue:\n",
        "- Reduced training accuracy to 91.94%\n",
        "- Maintained test accuracy at 89.87%\n",
        "- Narrower gap (~2.07%) between training and test performance indicates better generalization\n",
        "\n",
        "### **Final Words**\n",
        "\n",
        "1. The Inception model achieves state-of-the-art performance on CIFAR-10 with remarkable parameter efficiency.\n",
        "2. Data augmentation successfully mitigates overfitting while maintaining high test accuracy.\n",
        "3. The model demonstrates excellent generalization capability, as evidenced by consistent validation and test performances.\n",
        "4. The architecture provides an optimal balance between model complexity and performance, outperforming larger models while using fewer resources."
      ]
    }
  ],
  "metadata": {
    "accelerator": "GPU",
    "colab": {
      "gpuType": "A100",
      "provenance": []
    },
    "kernelspec": {
      "display_name": "venv",
      "language": "python",
      "name": "python3"
    },
    "language_info": {
      "name": "python",
      "version": "3.11.9"
    }
  },
  "nbformat": 4,
  "nbformat_minor": 0
}
